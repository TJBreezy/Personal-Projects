{
 "cells": [
  {
   "cell_type": "markdown",
   "id": "069933d1",
   "metadata": {},
   "source": [
    "## Fragility Analysis Workflow Notebook\n",
    "\n",
    "This notebook runs the full Fragility Project workflow end-to-end on Google Colab:\n",
    "1. Install dependencies  \n",
    "2. Upload & unzip project  \n",
    "3. Configure Python path  \n",
    "4. Execute main analysis  \n",
    "5. Display fitted parameters & final fragility curves  \n"
   ]
  },
  {
   "cell_type": "code",
   "execution_count": null,
   "id": "d990cb64",
   "metadata": {},
   "outputs": [],
   "source": [
    "!pip install numpy scipy matplotlib\n"
   ]
  },
  {
   "cell_type": "code",
   "execution_count": null,
   "id": "e0c14748",
   "metadata": {},
   "outputs": [],
   "source": [
    "from google.colab import files\n",
    "import zipfile\n",
    "import os\n",
    "\n",
    "# Upload the project zip\n",
    "print(\"Upload Fragility_Project.zip\")\n",
    "uploaded = files.upload()\n",
    "\n",
    "# Unzip into working directory\n",
    "with zipfile.ZipFile('Fragility_Project.zip', 'r') as z:\n",
    "    z.extractall()\n",
    "print(\"Unzipped project.\")\n"
   ]
  },
  {
   "cell_type": "code",
   "execution_count": null,
   "id": "ef050845",
   "metadata": {},
   "outputs": [],
   "source": [
    "import os, sys\n",
    "\n",
    "# Append project modules to Python path\n",
    "project_path = os.path.join(os.getcwd(), 'Fragility_Project', 'Fragility_Project')\n",
    "sys.path.append(project_path)\n",
    "print(\"Added to sys.path:\", project_path)\n",
    "\n",
    "# Change working directory to project folder\n",
    "os.chdir(project_path)\n",
    "print(\"Current working directory:\", os.getcwd())\n"
   ]
  },
  {
   "cell_type": "code",
   "execution_count": null,
   "id": "7f773ee1",
   "metadata": {},
   "outputs": [],
   "source": [
    "# Run the full fragility analysis workflow\n",
    "from main_workflow import main\n",
    "\n",
    "if __name__ == '__main__':\n",
    "    main()\n"
   ]
  },
  {
   "cell_type": "code",
   "execution_count": null,
   "id": "028f8044",
   "metadata": {},
   "outputs": [],
   "source": [
    "import numpy as np\n",
    "from IPython.display import Image, display\n",
    "\n",
    "# Load fitted fragility parameters\n",
    "params_file = os.path.join('Results', 'fragility_params.npy')\n",
    "if os.path.exists(params_file):\n",
    "    params = np.load(params_file)\n",
    "    print(\"Fitted Fragility Parameters:\\n\", params)\n",
    "else:\n",
    "    print(\"Fragility parameters file not found:\", params_file)\n",
    "\n",
    "# Display final fragility curves plot\n",
    "plot_path = os.path.join('Results', 'FragilityCurves.png')\n",
    "if os.path.exists(plot_path):\n",
    "    display(Image(plot_path))\n",
    "else:\n",
    "    print(\"FragilityCurves.png not found at:\", plot_path)\n"
   ]
  }
 ],
 "metadata": {},
 "nbformat": 4,
 "nbformat_minor": 5
}
